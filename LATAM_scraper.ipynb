{
 "cells": [
  {
   "cell_type": "code",
   "execution_count": 1,
   "id": "2a0a692b",
   "metadata": {},
   "outputs": [],
   "source": [
    "import requests\n",
    "from bs4 import BeautifulSoup\n",
    "from selenium import webdriver\n",
    "import pandas as pd\n",
    "import time\n",
    "from selenium.webdriver.support.ui import WebDriverWait\n",
    "from selenium.webdriver.support import expected_conditions as EC\n",
    "from selenium.webdriver.common.by import By\n",
    "from selenium.common.exceptions import TimeoutException"
   ]
  },
  {
   "cell_type": "code",
   "execution_count": 2,
   "id": "86cde118",
   "metadata": {},
   "outputs": [],
   "source": [
    "driver = webdriver.Chrome(executable_path='../chromedriver')"
   ]
  },
  {
   "cell_type": "code",
   "execution_count": 3,
   "id": "b200792f",
   "metadata": {},
   "outputs": [
    {
     "name": "stdout",
     "output_type": "stream",
     "text": [
      "La página se cargó correctamente\n"
     ]
    }
   ],
   "source": [
    "driver.get('https://www.latamairlines.com/ar/es/ofertas-vuelos?dataFlight=%7B%22tripTypeSelected%22%3A%7B%22label%22%3A%22Ida+y+Vuelta%22%2C%22value%22%3A%22RT%22%7D%2C%22cabinSelected%22%3A%7B%22label%22%3A%22Economy%22%2C%22value%22%3A%22Economy%22%7D%2C%22passengerSelected%22%3A%7B%22adultQuantity%22%3A1%2C%22childrenQuantity%22%3A0%2C%22infantQuantity%22%3A0%7D%2C%22originSelected%22%3A%7B%22id%22%3A%22EZE_AR_AIRPORT%22%2C%22name%22%3A%22Ezeiza+Intl.%22%2C%22city%22%3A%22Buenos+Aires%22%2C%22cityIsoCode%22%3A%22BUE%22%2C%22country%22%3A%22Argentina%22%2C%22iata%22%3A%22EZE%22%2C%22latitude%22%3A-34.8222%2C%22longitude%22%3A-58.5358%2C%22timezone%22%3A-3%2C%22tz%22%3A%22America%2FBuenos_Aires%22%2C%22type%22%3A%22AIRPORT%22%2C%22countryAlpha2%22%3A%22AR%22%2C%22allAirportsText%22%3Anull%2C%22airportIataCode%22%3A%22EZE%22%7D%2C%22destinationSelected%22%3A%7B%22id%22%3A%22MAD_ES_AIRPORT%22%2C%22name%22%3A%22Barajas+Intl.%22%2C%22city%22%3A%22Madrid%22%2C%22cityIsoCode%22%3A%22MAD%22%2C%22country%22%3A%22Espa%C3%B1a%22%2C%22iata%22%3A%22MAD%22%2C%22latitude%22%3A40.471926%2C%22longitude%22%3A-3.56264%2C%22timezone%22%3A1%2C%22tz%22%3A%22Europe%2FMadrid%22%2C%22type%22%3A%22AIRPORT%22%2C%22countryAlpha2%22%3A%22ES%22%2C%22allAirportsText%22%3Anull%2C%22airportIataCode%22%3A%22MAD%22%7D%2C%22dateGoSelected%22%3A%222022-01-01T15%3A00%3A00.000Z%22%2C%22dateReturnSelected%22%3A%222022-01-31T15%3A00%3A00.000Z%22%2C%22redemption%22%3Afalse%7D')\n",
    "try:\n",
    "    WebDriverWait(driver, 10).until(EC.presence_of_element_located((By.XPATH, '//li[@class=\"sc-eAudoH rtrCi\"]')))\n",
    "    print('La página se cargó correctamente')\n",
    "except TimeoutException:\n",
    "    print('La página tardo demasiado en responder')\n",
    "    "
   ]
  },
  {
   "cell_type": "code",
   "execution_count": 4,
   "id": "53b10216",
   "metadata": {},
   "outputs": [],
   "source": [
    "def extraer_vuelos():\n",
    "    vuelos = driver.find_elements_by_xpath('//li[@class=\"sc-eAudoH rtrCi\"]')\n",
    "    return vuelos"
   ]
  },
  {
   "cell_type": "code",
   "execution_count": 5,
   "id": "f746e89b",
   "metadata": {},
   "outputs": [],
   "source": [
    "def extraer_informacion(vuelo):\n",
    "    horarios = {}\n",
    "    horario_ida = vuelo.find_elements_by_xpath('.//span[@class=\"sc-gMcBNU gwIRwm\"]')[0].text\n",
    "    horario_vuelta = vuelo.find_elements_by_xpath('.//span[@class=\"sc-gMcBNU gwIRwm\"]')[1].text\n",
    "    duración_vuelo =  vuelo.find_element_by_xpath('.//div[@class=\"sc-izvnbC eqFECQ flight-duration\"]//span[@class=\"sc-iLVFha jrpeUd\"]').text\n",
    "    cantidad_escalas = vuelo.find_element_by_xpath('.//div[@class=\"sc-blIhvV cUAiPA\"]//span').text\n",
    "    horarios['ida'] = horario_ida\n",
    "    horarios['vuelta'] = horario_vuelta\n",
    "    horarios['duracion'] = duración_vuelo\n",
    "    horarios['escalas'] = cantidad_escalas\n",
    "    vuelo.find_element_by_xpath('.//div[@class=\"sc-fdQOMr ibkvFX\"]').click()\n",
    "    time.sleep(0.5)\n",
    "    tarifas = vuelo.find_elements_by_xpath('.//div[@class=\"sc-ihiiSJ eSWOit\"]')\n",
    "    lista_tarifas = []\n",
    "    for tarifa in tarifas:\n",
    "        lista_tarifas.append(tarifa.find_element_by_xpath('.//span[@class=\"sc-ijnzTp hUOrir displayAmount\"]').text)\n",
    "    for tarifa in lista_tarifas:\n",
    "        horarios[f'tarifa_{lista_tarifas.index(tarifa)+1}'] = tarifa\n",
    "    vuelo.find_element_by_xpath('.//button[@class=\"MuiButtonBase-root MuiButton-root MuiButton-text xp-Button-null MuiButton-textSizeSmall MuiButton-sizeSmall MuiButton-disableElevation\"]').click()\n",
    "    return horarios"
   ]
  },
  {
   "cell_type": "code",
   "execution_count": 6,
   "id": "05012295",
   "metadata": {},
   "outputs": [
    {
     "name": "stdout",
     "output_type": "stream",
     "text": [
      "Se encontraron 8 vuelos\n",
      "Vuelo 1 extraido (12.5%)\n",
      "Vuelo 2 extraido (25.0%)\n",
      "Vuelo 3 extraido (37.5%)\n",
      "Vuelo 4 extraido (50.0%)\n",
      "Vuelo 5 extraido (62.5%)\n",
      "Vuelo 6 extraido (75.0%)\n",
      "Vuelo 7 extraido (87.5%)\n",
      "Vuelo 8 extraido (100.0%)\n"
     ]
    }
   ],
   "source": [
    "vuelos = extraer_vuelos()\n",
    "print(f'Se encontraron {len(vuelos)} vuelos')\n",
    "vuelos_lista_info = []\n",
    "for vuelo in vuelos:\n",
    "    vuelos_lista_info.append(extraer_informacion(vuelo))\n",
    "    print(f'Vuelo {vuelos.index(vuelo) + 1} extraido ({((vuelos.index(vuelo)+1)/len(vuelos))*100}%)')"
   ]
  },
  {
   "cell_type": "code",
   "execution_count": 7,
   "id": "b0b42c21",
   "metadata": {},
   "outputs": [
    {
     "data": {
      "text/html": [
       "<div>\n",
       "<style scoped>\n",
       "    .dataframe tbody tr th:only-of-type {\n",
       "        vertical-align: middle;\n",
       "    }\n",
       "\n",
       "    .dataframe tbody tr th {\n",
       "        vertical-align: top;\n",
       "    }\n",
       "\n",
       "    .dataframe thead th {\n",
       "        text-align: right;\n",
       "    }\n",
       "</style>\n",
       "<table border=\"1\" class=\"dataframe\">\n",
       "  <thead>\n",
       "    <tr style=\"text-align: right;\">\n",
       "      <th></th>\n",
       "      <th>ida</th>\n",
       "      <th>vuelta</th>\n",
       "      <th>duracion</th>\n",
       "      <th>escalas</th>\n",
       "      <th>tarifa_1</th>\n",
       "      <th>tarifa_2</th>\n",
       "      <th>tarifa_3</th>\n",
       "      <th>tarifa_4</th>\n",
       "    </tr>\n",
       "  </thead>\n",
       "  <tbody>\n",
       "    <tr>\n",
       "      <th>0</th>\n",
       "      <td>7:45</td>\n",
       "      <td>15:25\\n+1</td>\n",
       "      <td>27 h 40 min</td>\n",
       "      <td>1 parada*</td>\n",
       "      <td>ARS 273.689,54</td>\n",
       "      <td>ARS 475.622,96</td>\n",
       "      <td>NaN</td>\n",
       "      <td>NaN</td>\n",
       "    </tr>\n",
       "    <tr>\n",
       "      <th>1</th>\n",
       "      <td>11:27</td>\n",
       "      <td>15:50\\n+1</td>\n",
       "      <td>24 h 23 min</td>\n",
       "      <td>1 parada*</td>\n",
       "      <td>ARS 421.129,12</td>\n",
       "      <td>ARS 487.229,26</td>\n",
       "      <td>ARS 549.598,67</td>\n",
       "      <td>ARS 319.592,90</td>\n",
       "    </tr>\n",
       "    <tr>\n",
       "      <th>2</th>\n",
       "      <td>19:06</td>\n",
       "      <td>15:50\\n+1</td>\n",
       "      <td>16 h 44 min</td>\n",
       "      <td>1 parada*</td>\n",
       "      <td>ARS 421.129,12</td>\n",
       "      <td>ARS 487.229,26</td>\n",
       "      <td>ARS 549.598,67</td>\n",
       "      <td>ARS 319.592,90</td>\n",
       "    </tr>\n",
       "    <tr>\n",
       "      <th>3</th>\n",
       "      <td>11:27</td>\n",
       "      <td>13:20\\n+1</td>\n",
       "      <td>21 h 53 min</td>\n",
       "      <td>2 paradas*</td>\n",
       "      <td>ARS 421.129,12</td>\n",
       "      <td>ARS 487.229,26</td>\n",
       "      <td>ARS 549.598,67</td>\n",
       "      <td>NaN</td>\n",
       "    </tr>\n",
       "    <tr>\n",
       "      <th>4</th>\n",
       "      <td>11:27</td>\n",
       "      <td>15:25\\n+1</td>\n",
       "      <td>23 h 58 min</td>\n",
       "      <td>2 paradas*</td>\n",
       "      <td>ARS 441.876,30</td>\n",
       "      <td>ARS 511.223,34</td>\n",
       "      <td>ARS 576.646,36</td>\n",
       "      <td>ARS 335.070,04</td>\n",
       "    </tr>\n",
       "    <tr>\n",
       "      <th>5</th>\n",
       "      <td>18:40</td>\n",
       "      <td>15:50\\n+2</td>\n",
       "      <td>41 h 10 min</td>\n",
       "      <td>2 paradas*</td>\n",
       "      <td>ARS 352.274,62</td>\n",
       "      <td>ARS 410.792,43</td>\n",
       "      <td>ARS 467.214,83</td>\n",
       "      <td>ARS 821.949,41</td>\n",
       "    </tr>\n",
       "    <tr>\n",
       "      <th>6</th>\n",
       "      <td>19:06</td>\n",
       "      <td>14:20\\n+2</td>\n",
       "      <td>39 h 14 min</td>\n",
       "      <td>2 paradas*</td>\n",
       "      <td>ARS 559.144,72</td>\n",
       "      <td>ARS 630.811,42</td>\n",
       "      <td>ARS 756.768,31</td>\n",
       "      <td>NaN</td>\n",
       "    </tr>\n",
       "    <tr>\n",
       "      <th>7</th>\n",
       "      <td>11:27</td>\n",
       "      <td>23:00\\n+1</td>\n",
       "      <td>31 h 33 min</td>\n",
       "      <td>3 paradas*</td>\n",
       "      <td>ARS 485.060,68</td>\n",
       "      <td>ARS 561.016,42</td>\n",
       "      <td>ARS 632.683,12</td>\n",
       "      <td>ARS 758.640,01</td>\n",
       "    </tr>\n",
       "  </tbody>\n",
       "</table>\n",
       "</div>"
      ],
      "text/plain": [
       "     ida     vuelta     duracion     escalas        tarifa_1        tarifa_2  \\\n",
       "0   7:45  15:25\\n+1  27 h 40 min   1 parada*  ARS 273.689,54  ARS 475.622,96   \n",
       "1  11:27  15:50\\n+1  24 h 23 min   1 parada*  ARS 421.129,12  ARS 487.229,26   \n",
       "2  19:06  15:50\\n+1  16 h 44 min   1 parada*  ARS 421.129,12  ARS 487.229,26   \n",
       "3  11:27  13:20\\n+1  21 h 53 min  2 paradas*  ARS 421.129,12  ARS 487.229,26   \n",
       "4  11:27  15:25\\n+1  23 h 58 min  2 paradas*  ARS 441.876,30  ARS 511.223,34   \n",
       "5  18:40  15:50\\n+2  41 h 10 min  2 paradas*  ARS 352.274,62  ARS 410.792,43   \n",
       "6  19:06  14:20\\n+2  39 h 14 min  2 paradas*  ARS 559.144,72  ARS 630.811,42   \n",
       "7  11:27  23:00\\n+1  31 h 33 min  3 paradas*  ARS 485.060,68  ARS 561.016,42   \n",
       "\n",
       "         tarifa_3        tarifa_4  \n",
       "0             NaN             NaN  \n",
       "1  ARS 549.598,67  ARS 319.592,90  \n",
       "2  ARS 549.598,67  ARS 319.592,90  \n",
       "3  ARS 549.598,67             NaN  \n",
       "4  ARS 576.646,36  ARS 335.070,04  \n",
       "5  ARS 467.214,83  ARS 821.949,41  \n",
       "6  ARS 756.768,31             NaN  \n",
       "7  ARS 632.683,12  ARS 758.640,01  "
      ]
     },
     "execution_count": 7,
     "metadata": {},
     "output_type": "execute_result"
    }
   ],
   "source": [
    "df = pd.DataFrame(vuelos_lista_info)\n",
    "df"
   ]
  },
  {
   "cell_type": "code",
   "execution_count": 8,
   "id": "a24d7a37",
   "metadata": {},
   "outputs": [],
   "source": [
    "df.to_excel('LATAM_flights_info.xlsx')"
   ]
  }
 ],
 "metadata": {
  "kernelspec": {
   "display_name": "Python 3",
   "language": "python",
   "name": "python3"
  },
  "language_info": {
   "codemirror_mode": {
    "name": "ipython",
    "version": 3
   },
   "file_extension": ".py",
   "mimetype": "text/x-python",
   "name": "python",
   "nbconvert_exporter": "python",
   "pygments_lexer": "ipython3",
   "version": "3.8.8"
  }
 },
 "nbformat": 4,
 "nbformat_minor": 5
}
